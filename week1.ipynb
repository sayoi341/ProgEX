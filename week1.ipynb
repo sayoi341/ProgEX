{
 "cells": [
  {
   "cell_type": "code",
   "execution_count": 2,
   "metadata": {},
   "outputs": [
    {
     "data": {
      "text/plain": [
       "[[1, 7], [1, 8], [1, 9], [2, 7], [2, 8], [2, 9], [3, 7], [3, 8], [3, 9]]"
      ]
     },
     "execution_count": 2,
     "metadata": {},
     "output_type": "execute_result"
    }
   ],
   "source": [
    "[[x, y] for x in range(1, 4) for y in range(7, 10)]"
   ]
  },
  {
   "cell_type": "code",
   "execution_count": 3,
   "metadata": {},
   "outputs": [
    {
     "name": "stdout",
     "output_type": "stream",
     "text": [
      "Collecting ColabTurtle\n",
      "  Downloading ColabTurtle-2.1.0.tar.gz (6.8 kB)\n",
      "  Installing build dependencies ... \u001b[?25ldone\n",
      "\u001b[?25h  Getting requirements to build wheel ... \u001b[?25ldone\n",
      "\u001b[?25h  Preparing metadata (pyproject.toml) ... \u001b[?25ldone\n",
      "\u001b[?25hBuilding wheels for collected packages: ColabTurtle\n",
      "  Building wheel for ColabTurtle (pyproject.toml) ... \u001b[?25ldone\n",
      "\u001b[?25h  Created wheel for ColabTurtle: filename=ColabTurtle-2.1.0-py3-none-any.whl size=7641 sha256=4126b5efe2ccd50be46e79860c4e048b2d6a20603f0a747a8801f8bbc17ae741\n",
      "  Stored in directory: /home/vscode/.cache/pip/wheels/9f/af/64/ffd85f9858ed7d56b7293dcedbc9d461bf13c8cfc97e352bc8\n",
      "Successfully built ColabTurtle\n",
      "Installing collected packages: ColabTurtle\n",
      "Successfully installed ColabTurtle-2.1.0\n"
     ]
    }
   ],
   "source": [
    "!pip install ColabTurtle\n",
    "from ColabTurtle.Turtle import *"
   ]
  },
  {
   "cell_type": "code",
   "execution_count": 5,
   "metadata": {},
   "outputs": [
    {
     "data": {
      "text/html": [
       "\n",
       "      <svg width=\"800\" height=\"500\">\n",
       "        <rect width=\"100%\" height=\"100%\" fill=\"black\"/>\n",
       "        <line x1=\"400\" y1=\"250\" x2=\"400.0\" y2=\"150.0\" stroke-linecap=\"round\" style=\"stroke:white;stroke-width:4\"/><line x1=\"400.0\" y1=\"150.0\" x2=\"498.481\" y2=\"167.365\" stroke-linecap=\"round\" style=\"stroke:white;stroke-width:4\"/><line x1=\"498.481\" y1=\"167.365\" x2=\"464.279\" y2=\"261.334\" stroke-linecap=\"round\" style=\"stroke:white;stroke-width:4\"/><line x1=\"464.279\" y1=\"261.334\" x2=\"377.676\" y2=\"211.334\" stroke-linecap=\"round\" style=\"stroke:white;stroke-width:4\"/><line x1=\"377.676\" y1=\"211.334\" x2=\"441.955\" y2=\"134.73\" stroke-linecap=\"round\" style=\"stroke:white;stroke-width:4\"/><line x1=\"441.955\" y1=\"134.73\" x2=\"506.234\" y2=\"211.334\" stroke-linecap=\"round\" style=\"stroke:white;stroke-width:4\"/><line x1=\"506.234\" y1=\"211.334\" x2=\"419.631\" y2=\"261.334\" stroke-linecap=\"round\" style=\"stroke:white;stroke-width:4\"/><line x1=\"419.631\" y1=\"261.334\" x2=\"385.429\" y2=\"167.365\" stroke-linecap=\"round\" style=\"stroke:white;stroke-width:4\"/><line x1=\"385.429\" y1=\"167.365\" x2=\"483.91\" y2=\"150.0\" stroke-linecap=\"round\" style=\"stroke:white;stroke-width:4\"/><line x1=\"483.91\" y1=\"150.0\" x2=\"483.91\" y2=\"250.0\" stroke-linecap=\"round\" style=\"stroke:white;stroke-width:4\"/><line x1=\"483.91\" y1=\"250.0\" x2=\"385.429\" y2=\"232.635\" stroke-linecap=\"round\" style=\"stroke:white;stroke-width:4\"/><line x1=\"385.429\" y1=\"232.635\" x2=\"419.631\" y2=\"138.666\" stroke-linecap=\"round\" style=\"stroke:white;stroke-width:4\"/><line x1=\"419.631\" y1=\"138.666\" x2=\"506.234\" y2=\"188.666\" stroke-linecap=\"round\" style=\"stroke:white;stroke-width:4\"/><line x1=\"506.234\" y1=\"188.666\" x2=\"441.955\" y2=\"265.27\" stroke-linecap=\"round\" style=\"stroke:white;stroke-width:4\"/><line x1=\"441.955\" y1=\"265.27\" x2=\"377.676\" y2=\"188.666\" stroke-linecap=\"round\" style=\"stroke:white;stroke-width:4\"/><line x1=\"377.676\" y1=\"188.666\" x2=\"464.279\" y2=\"138.666\" stroke-linecap=\"round\" style=\"stroke:white;stroke-width:4\"/><line x1=\"464.279\" y1=\"138.666\" x2=\"498.481\" y2=\"232.635\" stroke-linecap=\"round\" style=\"stroke:white;stroke-width:4\"/><line x1=\"498.481\" y1=\"232.635\" x2=\"400.0\" y2=\"250.0\" stroke-linecap=\"round\" style=\"stroke:white;stroke-width:4\"/>\n",
       "        <g visibility=visible transform=\"rotate(360,400.0,250.0) translate(382.0, 232.0)\">\n",
       "<path style=\" stroke:none;fill-rule:evenodd;fill:white;fill-opacity:1;\" d=\"M 18.214844 0.632812 C 16.109375 1.800781 15.011719 4.074219 15.074219 7.132812 L 15.085938 7.652344 L 14.785156 7.496094 C 13.476562 6.824219 11.957031 6.671875 10.40625 7.066406 C 8.46875 7.550781 6.515625 9.15625 4.394531 11.992188 C 3.0625 13.777344 2.679688 14.636719 3.042969 15.027344 L 3.15625 15.152344 L 3.519531 15.152344 C 4.238281 15.152344 4.828125 14.886719 8.1875 13.039062 C 9.386719 12.378906 10.371094 11.839844 10.378906 11.839844 C 10.386719 11.839844 10.355469 11.929688 10.304688 12.035156 C 9.832031 13.09375 9.257812 14.820312 8.96875 16.078125 C 7.914062 20.652344 8.617188 24.53125 11.070312 27.660156 C 11.351562 28.015625 11.363281 27.914062 10.972656 28.382812 C 8.925781 30.84375 7.945312 33.28125 8.238281 35.1875 C 8.289062 35.527344 8.28125 35.523438 8.917969 35.523438 C 10.941406 35.523438 13.074219 34.207031 15.136719 31.6875 C 15.359375 31.417969 15.328125 31.425781 15.5625 31.574219 C 16.292969 32.042969 18.023438 32.964844 18.175781 32.964844 C 18.335938 32.964844 19.941406 32.210938 20.828125 31.71875 C 20.996094 31.625 21.136719 31.554688 21.136719 31.558594 C 21.203125 31.664062 21.898438 32.414062 22.222656 32.730469 C 23.835938 34.300781 25.5625 35.132812 27.582031 35.300781 C 27.90625 35.328125 27.9375 35.308594 28.007812 34.984375 C 28.382812 33.242188 27.625 30.925781 25.863281 28.425781 L 25.542969 27.96875 L 25.699219 27.785156 C 28.945312 23.960938 29.132812 18.699219 26.257812 11.96875 L 26.207031 11.84375 L 27.945312 12.703125 C 31.53125 14.476562 32.316406 14.800781 33.03125 14.800781 C 33.976562 14.800781 33.78125 13.9375 32.472656 12.292969 C 28.519531 7.355469 25.394531 5.925781 21.921875 7.472656 L 21.558594 7.636719 L 21.578125 7.542969 C 21.699219 6.992188 21.761719 5.742188 21.699219 5.164062 C 21.496094 3.296875 20.664062 1.964844 19.003906 0.855469 C 18.480469 0.503906 18.457031 0.5 18.214844 0.632812\"/>\n",
       "</g>\n",
       "      </svg>\n",
       "    "
      ],
      "text/plain": [
       "<IPython.core.display.HTML object>"
      ]
     },
     "metadata": {},
     "output_type": "display_data"
    }
   ],
   "source": [
    "initializeTurtle()\n",
    "\n",
    "for i in range(18):\n",
    "    fd(100)\n",
    "    rt(100)"
   ]
  },
  {
   "cell_type": "code",
   "execution_count": 6,
   "metadata": {},
   "outputs": [
    {
     "data": {
      "text/plain": [
       "2.0"
      ]
     },
     "execution_count": 6,
     "metadata": {},
     "output_type": "execute_result"
    }
   ],
   "source": [
    "# 平方根を求めるコード\n",
    "def sqrt(x):\n",
    "    return x ** 0.5\n",
    "\n",
    "sqrt(4)"
   ]
  },
  {
   "cell_type": "code",
   "execution_count": 11,
   "metadata": {},
   "outputs": [
    {
     "data": {
      "text/plain": [
       "120"
      ]
     },
     "execution_count": 11,
     "metadata": {},
     "output_type": "execute_result"
    }
   ],
   "source": [
    "# キーボードかっら一つの整数値xを入力し、1からxまでの整数値をかけた値を出力する\n",
    "\n",
    "def factorial(x):\n",
    "    if x == 0:\n",
    "        return 1\n",
    "    else:\n",
    "        return x * factorial(x - 1)\n",
    "    \n",
    "factorial(int(input()))"
   ]
  }
 ],
 "metadata": {
  "kernelspec": {
   "display_name": "Python 3",
   "language": "python",
   "name": "python3"
  },
  "language_info": {
   "codemirror_mode": {
    "name": "ipython",
    "version": 3
   },
   "file_extension": ".py",
   "mimetype": "text/x-python",
   "name": "python",
   "nbconvert_exporter": "python",
   "pygments_lexer": "ipython3",
   "version": "3.12.0"
  }
 },
 "nbformat": 4,
 "nbformat_minor": 2
}
