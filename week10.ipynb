{
 "cells": [
  {
   "cell_type": "code",
   "execution_count": 2,
   "metadata": {},
   "outputs": [
    {
     "name": "stdout",
     "output_type": "stream",
     "text": [
      "実行結果: Hello World!\n",
      "\n"
     ]
    }
   ],
   "source": [
    "def execute_brainfuck(code):\n",
    "    memory = [0] * 30000  # Brainfuckメモリ\n",
    "    pointer = 0  # ポインタの初期位置\n",
    "    output = []  # 出力を格納するリスト\n",
    "\n",
    "    # Brainfuckコードの実行\n",
    "    i = 0\n",
    "    while i < len(code):\n",
    "        char = code[i]\n",
    "\n",
    "        if char == '>':\n",
    "            pointer += 1\n",
    "        elif char == '<':\n",
    "            pointer -= 1\n",
    "        elif char == '+':\n",
    "            memory[pointer] += 1\n",
    "        elif char == '-':\n",
    "            memory[pointer] -= 1\n",
    "        elif char == '.':\n",
    "            output.append(chr(memory[pointer]))\n",
    "        elif char == ',':\n",
    "            # 入力を受け取る場合は適切な方法で実装\n",
    "            pass\n",
    "        elif char == '[':\n",
    "            if memory[pointer] == 0:\n",
    "                # 対応する ']' までジャンプ\n",
    "                count = 1\n",
    "                while count > 0:\n",
    "                    i += 1\n",
    "                    if code[i] == '[':\n",
    "                        count += 1\n",
    "                    elif code[i] == ']':\n",
    "                        count -= 1\n",
    "            else:\n",
    "                i += 1\n",
    "                continue\n",
    "        elif char == ']':\n",
    "            if memory[pointer] != 0:\n",
    "                # 対応する '[' までジャンプ\n",
    "                count = 1\n",
    "                while count > 0:\n",
    "                    i -= 1\n",
    "                    if code[i] == ']':\n",
    "                        count += 1\n",
    "                    elif code[i] == '[':\n",
    "                        count -= 1\n",
    "            else:\n",
    "                i += 1\n",
    "                continue\n",
    "\n",
    "        i += 1\n",
    "\n",
    "    return ''.join(output)\n",
    "\n",
    "\n",
    "if __name__ == \"__main__\":\n",
    "    # 標準入力からBrainfuckコードを受け取る\n",
    "    brainfuck_code = input(\"Brainfuckコードを入力してください: \")\n",
    "\n",
    "    # Brainfuckコードの実行\n",
    "    result = execute_brainfuck(brainfuck_code)\n",
    "\n",
    "    # 結果を出力\n",
    "    print(\"実行結果:\", result)\n"
   ]
  }
 ],
 "metadata": {
  "kernelspec": {
   "display_name": "Python 3",
   "language": "python",
   "name": "python3"
  },
  "language_info": {
   "codemirror_mode": {
    "name": "ipython",
    "version": 3
   },
   "file_extension": ".py",
   "mimetype": "text/x-python",
   "name": "python",
   "nbconvert_exporter": "python",
   "pygments_lexer": "ipython3",
   "version": "3.12.0"
  }
 },
 "nbformat": 4,
 "nbformat_minor": 2
}
