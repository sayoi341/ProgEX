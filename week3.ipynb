{
 "cells": [
  {
   "cell_type": "code",
   "execution_count": 2,
   "metadata": {},
   "outputs": [
    {
     "name": "stdout",
     "output_type": "stream",
     "text": [
      "(Orange 210)"
     ]
    }
   ],
   "source": [
    "# Simple S-expression lexical analysis\n",
    "def slex(s):\n",
    "    for p in \"()\": s = s.replace(p, \" \" + p + \" \")\n",
    "    return s.split()\n",
    "\n",
    "# Simple S-expreesion syntax analysis\n",
    "tnum = 0\n",
    "def ssyn(s):\n",
    "    global tnum\n",
    "    def slist():\n",
    "        global tnum\n",
    "        t = s[tnum]; tnum += 1\n",
    "        if   t == ')': return []\n",
    "        elif t == '(': h = slist(); return [h] + slist()\n",
    "        else: return [t] + slist();\n",
    "    tnum = 0\n",
    "    t = s[tnum]; tnum += 1\n",
    "    return slist() if t == '(' else t\n",
    "\n",
    "# Simple S-expression output function\n",
    "def sdisp(x): print(x, end='', flush=True)\n",
    "def swrite(s):\n",
    "    def ls(x):\n",
    "        swrite(x[0])\n",
    "        if len(x) > 1: sdisp(' '); ls(x[1:])\n",
    "    if isinstance(s, str): sdisp(s)\n",
    "    elif not s: sdisp('()')\n",
    "    else: sdisp('('); ls(s); sdisp(')')\n",
    "\n",
    "# \"ev\" to avoid same name of Python eval\n",
    "def ev(s, e):\n",
    "    if   isinstance(s, str): return e[s]\n",
    "    elif isinstance(s[0], str):\n",
    "        if   s[0] == 'quote': return s[1]\n",
    "        elif s[0] == 'atom':  return isinstance(ev(s[1], e), str)\n",
    "        elif s[0] == 'car':   return ev(s[1], e)[0]\n",
    "        elif s[0] == 'cdr':   return ev(s[1], e)[1:]\n",
    "        elif s[0] == 'eq':    return ev(s[1], e) == ev(s[2], e)\n",
    "        elif s[0] == 'cons':  return [ev(s[1], e)] + ev(s[2], e)\n",
    "        elif s[0] == 'if':    return ev(s[2], e) if ev(s[1], e) else ev(s[3], e)\n",
    "        else: return ev([e[s[0]]] + s[1:], e)\n",
    "    else: return ev(s[0][2],\n",
    "                    {**e, **dict(zip(s[0][1], [ev(x, e) for x in s[1:]]))})\n",
    "\n",
    "# REPL without global environment\n",
    "def srep(s): swrite(ev(ssyn(slex(s)), {}))\n",
    "\n",
    "#srep(\"(car (cdr (quote (10 20 30)))))\")\n",
    "\n",
    "#srep(input()) # ((lambda (x) (car (cdr x))) (quote (abc def ghi)))\n",
    "\n",
    "srep(\"((lambda (assoc k v) (assoc k v))                \\\n",
    "        (quote (lambda (k v)                             \\\n",
    "                (if (eq v (quote ())) (quote ())        \\\n",
    "                (if (eq (car (car v)) k) (car v)        \\\n",
    "                    (assoc k (cdr v))))))               \\\n",
    "        (quote Orange)                                   \\\n",
    "        (quote ((Apple 120) (Orange 210) (Lemon 180))))\")"
   ]
  },
  {
   "cell_type": "code",
   "execution_count": 3,
   "metadata": {},
   "outputs": [
    {
     "name": "stdout",
     "output_type": "stream",
     "text": [
      "20"
     ]
    }
   ],
   "source": [
    "srep(\"(car (cdr (quote (10 20 30))))\")"
   ]
  },
  {
   "cell_type": "code",
   "execution_count": 4,
   "metadata": {},
   "outputs": [
    {
     "data": {
      "text/plain": [
       "['(', 'car', '(', 'cdr', '(', 'quote', '(', '10', '20', '30', ')', ')', ')']"
      ]
     },
     "execution_count": 4,
     "metadata": {},
     "output_type": "execute_result"
    }
   ],
   "source": [
    "slex(\"(car (cdr (quote (10 20 30)))\")"
   ]
  },
  {
   "cell_type": "code",
   "execution_count": 6,
   "metadata": {},
   "outputs": [
    {
     "name": "stdout",
     "output_type": "stream",
     "text": [
      "['car', ['cdr', ['quote', ['10', '20', '30']]]]\n"
     ]
    }
   ],
   "source": [
    "print(ssyn(slex(\"(car (cdr (quote (10 20 30)))))\")))"
   ]
  }
 ],
 "metadata": {
  "kernelspec": {
   "display_name": "Python 3",
   "language": "python",
   "name": "python3"
  },
  "language_info": {
   "codemirror_mode": {
    "name": "ipython",
    "version": 3
   },
   "file_extension": ".py",
   "mimetype": "text/x-python",
   "name": "python",
   "nbconvert_exporter": "python",
   "pygments_lexer": "ipython3",
   "version": "3.12.0"
  }
 },
 "nbformat": 4,
 "nbformat_minor": 2
}
