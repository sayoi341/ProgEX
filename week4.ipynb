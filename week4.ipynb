{
 "cells": [
  {
   "cell_type": "code",
   "execution_count": null,
   "metadata": {},
   "outputs": [],
   "source": [
    "import sys\n",
    "sys.setrecursionlimit(10 ** 5)\n",
    "\n",
    "g = {'=': lambda x,y: x == y, '+': lambda x,y: x + y, '-': lambda x,y: x - y}\n",
    "\n",
    "def ev(s, e):\n",
    "    if isinstance(s, str): return {**e, **g}[s]\n",
    "    elif isinstance(s, int): return s\n",
    "    elif s[0] == 'if': return ev(s[2], e) if ev(s[1], e) else ev(s[3], e)\n",
    "    elif s[0] == 'lambda': return s + [e]\n",
    "    else:\n",
    "        f = ev(s[0], e); a = [ev(x, e) for x in s[1:]]\n",
    "        if callable(f): return f(*a)\n",
    "        else: return ev(f[2], {**f[3], **dict(zip(f[1], a))})"
   ]
  },
  {
   "cell_type": "code",
   "execution_count": null,
   "metadata": {},
   "outputs": [],
   "source": [
    "# \"ev\" to avoid same name of Python eval\n",
    "def ev(s, e):\n",
    "    if   isinstance(s, str): return e[s]\n",
    "    elif isinstance(s[0], str):\n",
    "        if   s[0] == 'quote': return s[1]\n",
    "        elif s[0] == 'atom':  return isinstance(ev(s[1], e), str)\n",
    "        elif s[0] == 'car':   return ev(s[1], e)[0]\n",
    "        elif s[0] == 'cdr':   return ev(s[1], e)[1:]\n",
    "        elif s[0] == 'eq':    return ev(s[1], e) == ev(s[2], e)\n",
    "        elif s[0] == 'cons':  return [ev(s[1], e)] + ev(s[2], e)\n",
    "        elif s[0] == 'if':    return ev(s[2], e) if ev(s[1], e) else ev(s[3], e)\n",
    "        else: return ev([e[s[0]]] + s[1:], e)\n",
    "    else: return ev(s[0][2],\n",
    "                    {**e, **dict(zip(s[0][1], [ev(x, e) for x in s[1:]]))})"
   ]
  },
  {
   "cell_type": "code",
   "execution_count": 1,
   "metadata": {},
   "outputs": [],
   "source": [
    "# Simple S-expression output function\n",
    "def sdisp(x): print(x, end='', flush=True)\n",
    "def swrite(s):\n",
    "    def ls(x):\n",
    "        swrite(x[0])\n",
    "        if len(x) > 1: sdisp(' '); ls(x[1:])\n",
    "    if isinstance(s, str): sdisp(s)\n",
    "    elif not s: sdisp('()')\n",
    "    else: sdisp('('); ls(s); sdisp(')')"
   ]
  }
 ],
 "metadata": {
  "kernelspec": {
   "display_name": "Python 3",
   "language": "python",
   "name": "python3"
  },
  "language_info": {
   "codemirror_mode": {
    "name": "ipython",
    "version": 3
   },
   "file_extension": ".py",
   "mimetype": "text/x-python",
   "name": "python",
   "nbconvert_exporter": "python",
   "pygments_lexer": "ipython3",
   "version": "3.12.0"
  }
 },
 "nbformat": 4,
 "nbformat_minor": 2
}
