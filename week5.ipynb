{
 "cells": [
  {
   "cell_type": "code",
   "execution_count": 3,
   "metadata": {},
   "outputs": [
    {
     "name": "stdout",
     "output_type": "stream",
     "text": [
      "fib(30) = 832040, AC = 1346268, FC = 2692537\n"
     ]
    }
   ],
   "source": [
    "def ADD(a, b):\n",
    "    global AC\n",
    "    AC += 1\n",
    "    return a + b\n",
    "\n",
    "def fib(n):\n",
    "    global FC\n",
    "    FC += 1\n",
    "    if n == 0: return 0\n",
    "    elif n == 1: return 1\n",
    "    else: return ADD(fib(n-1), fib(n-2))\n",
    "\n",
    "AC, FC = 0, 0\n",
    "n = 30\n",
    "print('fib(', n, ') = ', fib(n), ', AC = ', AC, ', FC = ', FC, sep='')"
   ]
  },
  {
   "cell_type": "code",
   "execution_count": 5,
   "metadata": {},
   "outputs": [
    {
     "name": "stdout",
     "output_type": "stream",
     "text": [
      "fib(30) = 832040, PC = 30, FC = 31\n"
     ]
    }
   ],
   "source": [
    "def ADD(a, b):\n",
    "    global PC\n",
    "    PC += 1\n",
    "    return a + b\n",
    "\n",
    "def fib(n):\n",
    "    def ret(n, a, b):\n",
    "        global FC\n",
    "        FC += 1\n",
    "        if n == 0: return a\n",
    "        else:\n",
    "            return ret(n-1, b, ADD(a, b))\n",
    "    return ret(n, 0, 1)\n",
    "\n",
    "PC, FC = 0, 0\n",
    "n = 30\n",
    "print('fib(', n, ') = ', fib(n), ', PC = ', PC, ', FC = ', FC, sep='')"
   ]
  }
 ],
 "metadata": {
  "kernelspec": {
   "display_name": "Python 3",
   "language": "python",
   "name": "python3"
  },
  "language_info": {
   "codemirror_mode": {
    "name": "ipython",
    "version": 3
   },
   "file_extension": ".py",
   "mimetype": "text/x-python",
   "name": "python",
   "nbconvert_exporter": "python",
   "pygments_lexer": "ipython3",
   "version": "3.12.0"
  }
 },
 "nbformat": 4,
 "nbformat_minor": 2
}
