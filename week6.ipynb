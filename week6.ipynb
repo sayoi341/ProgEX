{
 "cells": [
  {
   "cell_type": "code",
   "execution_count": null,
   "metadata": {},
   "outputs": [],
   "source": [
    "def memo(f, n):\n",
    "    try: return M[n]\n",
    "    except KeyError:\n",
    "        M[n] = f(n)\n",
    "        return M[n]\n",
    "\n",
    "def tarai(n):\n",
    "    global FC\n",
    "    FC += 1\n",
    "    (x, y, z) = n\n",
    "    if x <= y: return y\n",
    "    else: return memo(tarai, (  memo(tarai, (x-1,y,z)),\n",
    "                                memo(tarai, (y-1,z,x)),\n",
    "                                memo(tarai, (z-1,x,y))))\n",
    "\n",
    "FC = 0\n",
    "M = {}\n",
    "print('tarai(12,6,0) = ', tarai((12,6,0)), ', FC = ', FC, sep='')"
   ]
  },
  {
   "cell_type": "code",
   "execution_count": 1,
   "metadata": {},
   "outputs": [
    {
     "name": "stdout",
     "output_type": "stream",
     "text": [
      "[1, 2, 3, 4, 5, 6, 7, 8, 9]\n"
     ]
    }
   ],
   "source": [
    "def cp(s, p):\n",
    "    if len(s) <= 1: return []\n",
    "    else:\n",
    "        if p(s[-1], s[0]):\n",
    "            return cp(s[0:-1], p) + [s[-1]]\n",
    "        else:\n",
    "            return cp(s[0:-1], p)\n",
    "\n",
    "def lt(a, b): return a < b;\n",
    "def ge(a, b): return a >= b;\n",
    "\n",
    "def qs(s):\n",
    "    if len(s) == 0: return []\n",
    "    else: return qs(cp(s, lt)) + [s[0]] + qs(cp(s, ge))\n",
    "\n",
    "d = [6, 2, 8, 4, 3, 5, 7, 9, 1]\n",
    "print(qs(d))"
   ]
  },
  {
   "cell_type": "code",
   "execution_count": 3,
   "metadata": {},
   "outputs": [
    {
     "name": "stdout",
     "output_type": "stream",
     "text": [
      "fib(30) = 832040, AC = 29, FC = 59\n"
     ]
    }
   ],
   "source": [
    "def ADD(a, b):\n",
    "    global AC\n",
    "    AC += 1\n",
    "    return a + b\n",
    "\n",
    "def fib(n):\n",
    "    global FC\n",
    "    FC += 1\n",
    "    if n == 0: return 0\n",
    "    elif n == 1: return 1\n",
    "    else:\n",
    "        try:\n",
    "            return M[n]\n",
    "        except KeyError:\n",
    "            M[n] = ADD(fib(n-1), fib(n-2))\n",
    "            return M[n]\n",
    "\n",
    "AC, FC = 0, 0\n",
    "n = 30\n",
    "M = {}\n",
    "print('fib(', n, ') = ', fib(n), ', AC = ', AC, ', FC = ', FC, sep='')"
   ]
  }
 ],
 "metadata": {
  "kernelspec": {
   "display_name": "Python 3",
   "language": "python",
   "name": "python3"
  },
  "language_info": {
   "codemirror_mode": {
    "name": "ipython",
    "version": 3
   },
   "file_extension": ".py",
   "mimetype": "text/x-python",
   "name": "python",
   "nbconvert_exporter": "python",
   "pygments_lexer": "ipython3",
   "version": "3.12.0"
  }
 },
 "nbformat": 4,
 "nbformat_minor": 2
}
